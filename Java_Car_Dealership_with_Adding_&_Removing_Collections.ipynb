{
  "nbformat": 4,
  "nbformat_minor": 0,
  "metadata": {
    "colab": {
      "provenance": []
    },
    "kernelspec": {
      "name": "python3",
      "display_name": "Python 3"
    },
    "language_info": {
      "name": "python"
    }
  },
  "cells": [
    {
      "cell_type": "code",
      "execution_count": null,
      "metadata": {
        "id": "-dkkZOZALWkN"
      },
      "outputs": [],
      "source": [
        "import java.util.ArrayList;\n",
        "\n",
        "public class DealershipInventory {\n",
        "    private ArrayList<String> inventoryList;\n",
        "\n",
        "    public DealershipInventory() {\n",
        "        inventoryList = new ArrayList<>();\n",
        "    }\n",
        "\n",
        "    public void addVehicle(String vehicle) {\n",
        "        inventoryList.add(vehicle);\n",
        "    }\n",
        "\n",
        "    public void removeVehicle(String vehicle) {\n",
        "        inventoryList.remove(vehicle);\n",
        "    }\n",
        "\n",
        "    public ArrayList<String> getInventory() {\n",
        "        return inventoryList;\n",
        "    }\n",
        "\n",
        "    public static void main(String[] args) {\n",
        "        DealershipInventory dealership = new DealershipInventory();\n",
        "\n",
        "        // Add vehicles to inventory\n",
        "        dealership.addVehicle(\"Honda Civic\");\n",
        "        dealership.addVehicle(\"Toyota Corolla\");\n",
        "        dealership.addVehicle(\"Ford Mustang\");\n",
        "        dealership.addVehicle(\"Chevrolet Camaro\");\n",
        "\n",
        "        // Remove a vehicle from inventory\n",
        "        dealership.removeVehicle(\"Toyota Corolla\");\n",
        "\n",
        "        // Print current inventory\n",
        "        ArrayList<String> inventory = dealership.getInventory();\n",
        "        System.out.println(\"Dealership Inventory:\");\n",
        "        for (String vehicle : inventory) {\n",
        "            System.out.println(vehicle);\n",
        "        }\n",
        "    }\n",
        "}\n"
      ]
    },
    {
      "cell_type": "markdown",
      "source": [
        "Here's another way to do it:"
      ],
      "metadata": {
        "id": "2S6kzxMGLdNy"
      }
    },
    {
      "cell_type": "code",
      "source": [
        "import java.util.ArrayList;\n",
        "import java.util.List;\n",
        "\n",
        "public class Dealership {\n",
        "    private List<String> cars;\n",
        "\n",
        "    public Dealership() {\n",
        "        cars = new ArrayList<String>();\n",
        "    }\n",
        "\n",
        "    public void addCar(String car) {\n",
        "        cars.add(car);\n",
        "    }\n",
        "\n",
        "    public void removeCar(String car) {\n",
        "        cars.remove(car);\n",
        "    }\n",
        "\n",
        "    public void printInventory() {\n",
        "        System.out.println(\"Inventory:\");\n",
        "        for (String car : cars) {\n",
        "            System.out.println(car);\n",
        "        }\n",
        "    }\n",
        "\n",
        "    public static void main(String[] args) {\n",
        "        Dealership dealership = new Dealership();\n",
        "        dealership.addCar(\"Honda Civic\");\n",
        "        dealership.addCar(\"Toyota Corolla\");\n",
        "        dealership.addCar(\"Nissan Altima\");\n",
        "        dealership.printInventory();\n",
        "\n",
        "        dealership.removeCar(\"Nissan Altima\");\n",
        "        dealership.printInventory();\n",
        "    }\n",
        "}\n"
      ],
      "metadata": {
        "id": "kpdNqIWkLfrW"
      },
      "execution_count": null,
      "outputs": []
    }
  ]
}